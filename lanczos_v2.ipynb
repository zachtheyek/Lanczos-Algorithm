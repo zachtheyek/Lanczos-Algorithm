{
 "cells": [
  {
   "cell_type": "code",
   "execution_count": 5,
   "metadata": {},
   "outputs": [],
   "source": [
    "import numpy as np\n",
    "from numpy import linalg as LA\n",
    "from sympy import *\n",
    "from matplotlib import pyplot as plt"
   ]
  },
  {
   "cell_type": "code",
   "execution_count": 6,
   "metadata": {},
   "outputs": [],
   "source": [
    "# Potential function\n",
    "def u(m, w, x):\n",
    " return 0.5 * m * w**2 * x**2\n",
    "\n",
    "# Initial gaussian function\n",
    "def v(c, x):\n",
    " return exp(c * x**2)\n",
    "\n",
    "# Normalization function\n",
    "def norml(func, a, b):\n",
    " return integrate(func, (x, a, b))\n",
    "\n",
    "# Psi1 (aka gaussian with norm. const)\n",
    "def psi(A, c, x):\n",
    " return A * v(c, x)\n",
    "\n",
    "# Hamiltonian operator function \n",
    "def H(func, m, h, w, x):\n",
    " deriv = diff(func, x, 2)\n",
    " return - (deriv * h**2) / (2 * m) + u(m, w, x) * func\n",
    "\n",
    "# Step 2 (w_prime -> integrand to find alpha)\n",
    "def w_prime(func, m, h, w, x):\n",
    " H_psi = H(func, m, h, w, x)\n",
    " return func * H_psi\n",
    "\n",
    "def w1(func, m, h, w, x, alpha):\n",
    " return H(func, m, h, w, x) * func - alpha * func\n",
    "\n",
    "# Function to tridiagonalize\n",
    "def tridiag(a, b, c, k1=-1, k2=0, k3=1):\n",
    "  return np.diag(a, k1) + np.diag(b, k2) + np.diag(c, k3)"
   ]
  },
  {
   "cell_type": "code",
   "execution_count": 7,
   "metadata": {},
   "outputs": [],
   "source": [
    "# Lists\n",
    "y, z = [], []\n",
    "# Iteration num\n",
    "n = 5\n",
    "# Physical constants\n",
    "x = symbols('x')\n",
    "m = 1\n",
    "h = 1\n",
    "w = 1\n",
    "c = - (m * w) / (2 * h)\n",
    "# Normalization constant\n",
    "A = sqrt(1 / norml(v(c, x)**2, -oo, oo))"
   ]
  },
  {
   "cell_type": "code",
   "execution_count": 8,
   "metadata": {},
   "outputs": [],
   "source": [
    "# Finding alpha1\n",
    "alpha = N(norml(w_prime(psi(A, c, x), m, h, w, x), -oo, oo), 3)\n",
    "z.append(alpha)"
   ]
  },
  {
   "cell_type": "code",
   "execution_count": 9,
   "metadata": {},
   "outputs": [],
   "source": [
    "beta1 = N(sqrt(norml(w1(psi(A, c, x), m, h, w, x, alpha)**2, -oo, oo)), 3)\n",
    "y.append(beta1)"
   ]
  },
  {
   "cell_type": "code",
   "execution_count": 10,
   "metadata": {},
   "outputs": [],
   "source": [
    "# Iterative part of lanczos algorithm (n-1 iterations)\n",
    "j = n - 1\n",
    "for i in range(j):\n",
    "  psi1 = psi(A, c, x) / y[i - 1]\n",
    "  alpha_n = N(norml(w_prime(psi(A, c, x), m, h, w, x), -oo, oo), 3)\n",
    "  z.append(alpha_n)\n",
    "  beta_n = N(sqrt(norml(w1(psi(A, c, x), m, h, w, x, alpha)**2, -oo, oo)), 3)\n",
    "  # Reset\n",
    "  if i < (j-1):\n",
    "     y.append(beta_n)\n",
    "  psi_2 = psi1 / beta_n\n",
    "  psi1 = psi_2"
   ]
  },
  {
   "cell_type": "code",
   "execution_count": 11,
   "metadata": {},
   "outputs": [
    {
     "name": "stdout",
     "output_type": "stream",
     "text": [
      "Tridiagonalization of A:\n",
      "[[0.5        0.20758057 0.         0.         0.        ]\n",
      " [0.20758057 0.5        0.20758057 0.         0.        ]\n",
      " [0.         0.20758057 0.5        0.20758057 0.        ]\n",
      " [0.         0.         0.20758057 0.5        0.20758057]\n",
      " [0.         0.         0.         0.20758057 0.5       ]]\n",
      "\n",
      "Associated eigenvalues:\n",
      "[0.85954009 0.70758057 0.5        0.14045991 0.29241943]\n",
      "\n",
      "Associated eigenvectors:\n",
      "[[ 2.88675135e-01 -5.00000000e-01  5.77350269e-01 -2.88675135e-01\n",
      "  -5.00000000e-01]\n",
      " [ 5.00000000e-01 -5.00000000e-01  6.98292345e-16  5.00000000e-01\n",
      "   5.00000000e-01]\n",
      " [ 5.77350269e-01 -2.20295104e-15 -5.77350269e-01 -5.77350269e-01\n",
      "   4.32802501e-16]\n",
      " [ 5.00000000e-01  5.00000000e-01 -1.68829397e-16  5.00000000e-01\n",
      "  -5.00000000e-01]\n",
      " [ 2.88675135e-01  5.00000000e-01  5.77350269e-01 -2.88675135e-01\n",
      "   5.00000000e-01]]\n",
      "\n"
     ]
    }
   ],
   "source": [
    "T = tridiag(y, z, y)\n",
    "T = T.astype('float64')\n",
    "print(f'Tridiagonalization of A:\\n{T}\\n')\n",
    "# Finding the eigenvalues w and eigenvectors v of the tri-diagonal matrix\n",
    "s, t = LA.eig(T)\n",
    "print(f'Associated eigenvalues:\\n{s}\\n')\n",
    "print(f'Associated eigenvectors:\\n{t}\\n')"
   ]
  },
  {
   "cell_type": "code",
   "execution_count": 12,
   "metadata": {},
   "outputs": [
    {
     "data": {
      "image/png": "[encoded data removed]",
      "text/plain": [
       "<Figure size 432x288 with 1 Axes>"
      ]
     },
     "metadata": {
      "needs_background": "light"
     },
     "output_type": "display_data"
    }
   ],
   "source": [
    "plot_y = np.asarray(s)\n",
    "plot_x = np.asarray(range(1, n + 1))\n",
    "plt.plot(plot_x, plot_y)\n",
    "plt.show()"
   ]
  }
 ],
 "metadata": {
  "interpreter": {
   "hash": "40d3a090f54c6569ab1632332b64b2c03c39dcf918b08424e98f38b5ae0af88f"
  },
  "kernelspec": {
   "display_name": "Python 3.8.11 64-bit ('base': conda)",
   "name": "python3"
  },
  "language_info": {
   "codemirror_mode": {
    "name": "ipython",
    "version": 3
   },
   "file_extension": ".py",
   "mimetype": "text/x-python",
   "name": "python",
   "nbconvert_exporter": "python",
   "pygments_lexer": "ipython3",
   "version": "3.8.11"
  },
  "orig_nbformat": 4
 },
 "nbformat": 4,
 "nbformat_minor": 2
}
