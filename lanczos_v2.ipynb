{
 "cells": [
  {
   "cell_type": "code",
   "execution_count": 24,
   "metadata": {},
   "outputs": [],
   "source": [
    "import numpy as np\n",
    "from numpy import linalg as LA\n",
    "from sympy import *\n",
    "from matplotlib import pyplot as plt"
   ]
  },
  {
   "cell_type": "code",
   "execution_count": 25,
   "metadata": {},
   "outputs": [],
   "source": [
    "# Potential function\n",
    "def u(m, w, x):\n",
    " return 0.5 * m * w**2 * x**2\n",
    "\n",
    "# Initial gaussian function\n",
    "def v(c, x):\n",
    " return exp(c * x**2)\n",
    "\n",
    "# Normalization function\n",
    "def norml(func, a, b):\n",
    " return integrate(func, (x, a, b))\n",
    "\n",
    "# Psi1 (aka gaussian with norm. const)\n",
    "def psi(A, c, x):\n",
    " return A * v(c, x)\n",
    "\n",
    "# Hamiltonian operator function \n",
    "def H(func, m, h, w, x):\n",
    " deriv = diff(func, x, 2)\n",
    " return - (deriv * h**2) / (2 * m) + u(m, w, x) * func\n",
    "\n",
    "# Step 2 (w_prime -> integrand to find alpha)\n",
    "def w_prime(func, m, h, w, x):\n",
    " H_psi = H(func, m, h, w, x)\n",
    " return func * H_psi\n",
    "\n",
    "def w1(func, m, h, w, x, alpha):\n",
    " return H(func, m, h, w, x) - alpha * func\n",
    "\n",
    "# Function to tridiagonalize\n",
    "def tridiag(a, b, c, k1=-1, k2=0, k3=1):\n",
    "  return np.diag(a, k1) + np.diag(b, k2) + np.diag(c, k3)"
   ]
  },
  {
   "cell_type": "code",
   "execution_count": 26,
   "metadata": {},
   "outputs": [],
   "source": [
    "# Lists\n",
    "y, z = [], []\n",
    "# Iteration num\n",
    "n = 5\n",
    "# Physical constants\n",
    "x = symbols('x')\n",
    "m = 1\n",
    "h = 1\n",
    "w = 1\n",
    "c = - (m * w) / (2 * h)\n",
    "# Normalization constant\n",
    "A = sqrt(1 / norml(v(c, x)**2, -oo, oo))"
   ]
  },
  {
   "cell_type": "code",
   "execution_count": 27,
   "metadata": {},
   "outputs": [],
   "source": [
    "# Finding alpha1\n",
    "alpha = N(norml(w_prime(psi(A, c, x), m, h, w, x), -oo, oo), 3)\n",
    "z.append(alpha)"
   ]
  },
  {
   "cell_type": "code",
   "execution_count": 28,
   "metadata": {},
   "outputs": [],
   "source": [
    "beta1 = N(sqrt(norml(w1(psi(A, c, x), m, h, w, x, alpha)**2, -oo, oo)), 3)\n",
    "y.append(beta1)"
   ]
  },
  {
   "cell_type": "code",
   "execution_count": 29,
   "metadata": {},
   "outputs": [],
   "source": [
    "# Iterative part of lanczos algorithm (n-1 iterations)\n",
    "j = n - 1\n",
    "for i in range(j):\n",
    "  psi1 = psi(A, c, x) / y[i - 1]\n",
    "  alpha_n = N(norml(w_prime(psi(A, c, x), m, h, w, x), -oo, oo), 3)\n",
    "  z.append(alpha_n)\n",
    "  beta_n = N(sqrt(norml(w1(psi(A, c, x), m, h, w, x, alpha)**2, -oo, oo)), 3)\n",
    "  # Reset\n",
    "  if i < (j-1):\n",
    "     y.append(beta_n)\n",
    "  psi_2 = psi1 / beta_n\n",
    "  psi1 = psi_2"
   ]
  },
  {
   "cell_type": "code",
   "execution_count": 30,
   "metadata": {},
   "outputs": [
    {
     "name": "stdout",
     "output_type": "stream",
     "text": [
      "Tridiagonalization of A:\n",
      "[[0.5 0.  0.  0.  0. ]\n",
      " [0.  0.5 0.  0.  0. ]\n",
      " [0.  0.  0.5 0.  0. ]\n",
      " [0.  0.  0.  0.5 0. ]\n",
      " [0.  0.  0.  0.  0.5]]\n",
      "\n",
      "Associated eigenvalues:\n",
      "[0.5 0.5 0.5 0.5 0.5]\n",
      "\n",
      "Associated eigenvectors:\n",
      "[[1. 0. 0. 0. 0.]\n",
      " [0. 1. 0. 0. 0.]\n",
      " [0. 0. 1. 0. 0.]\n",
      " [0. 0. 0. 1. 0.]\n",
      " [0. 0. 0. 0. 1.]]\n",
      "\n"
     ]
    }
   ],
   "source": [
    "T = tridiag(y, z, y)\n",
    "T = T.astype('float64')\n",
    "print(f'Tridiagonalization of A:\\n{T}\\n')\n",
    "# Finding the eigenvalues w and eigenvectors v of the tri-diagonal matrix\n",
    "s, t = LA.eig(T)\n",
    "print(f'Associated eigenvalues:\\n{s}\\n')\n",
    "print(f'Associated eigenvectors:\\n{t}\\n')"
   ]
  },
  {
   "cell_type": "code",
   "execution_count": 31,
   "metadata": {},
   "outputs": [
    {
     "data": {
      "image/png": "[encoded data removed]",
      "text/plain": [
       "<Figure size 432x288 with 1 Axes>"
      ]
     },
     "metadata": {
      "needs_background": "light"
     },
     "output_type": "display_data"
    }
   ],
   "source": [
    "plot_y = np.asarray(s)\n",
    "plot_x = np.asarray(range(1, n + 1))\n",
    "plt.plot(plot_x, plot_y)\n",
    "plt.xlabel('Iteration number')\n",
    "plt.ylabel('Eigenvalues')\n",
    "plt.show()"
   ]
  },
  {
   "cell_type": "markdown",
   "metadata": {},
   "source": [
    "# Scrap:"
   ]
  },
  {
   "cell_type": "code",
   "execution_count": null,
   "metadata": {},
   "outputs": [],
   "source": [
    "'''\n",
    "we expect alpha to be 1/2, so no need to loop\n",
    "\n",
    "usually, we track how much the alpha value changes. if it changes by less than 0.01%, it will have converged and we can stop the loop.\n",
    "\n",
    "no need to track beta value, it's just there for the ride\n",
    "\n",
    "we expect alpha to change a lot at first, then slowly change less and less v quickly, should not be linear change\n",
    "\n",
    "we want to generalize psi, rn psi is a Gaussian, we should have a normalization constant C times a function psi. generalize lanczos() to only take C and psi\n",
    "\n",
    "0.5 is the ground state, should get 3.5, 5.5, 7.5, etc. from loop (excited states)\n",
    "\n",
    "plot eigenvalues vs iterations \n",
    "\n",
    "in LaTeX: how/why does Lanczos algorithm work, and some pseudo code of what our algorithms do\n",
    "'''\n",
    "\n",
    "import sympy as sym\n",
    "import numpy as np\n",
    "import math\n",
    "\n",
    "def gaussian(m, omega, hbar, x):\n",
    "  return sym.exp(-(m * omega) / (2 * hbar) * (x ** 2))\n",
    "\n",
    "def normalize_gauss(psi0, C, x):\n",
    "  a, b = sym.solve((C ** 2) * sym.integrate((sym.Abs(psi0 / C) ** 2), (x, -sym.oo, sym.oo)) - 1, C)\n",
    "  psi1 = b * (psi0 / C)\n",
    "  return psi1, b\n",
    "\n",
    "def hamiltonian(m, omega, hbar, psi1, x):\n",
    "  return (-(hbar ** 2) / (2 * m)) * (sym.diff(psi1, x, 2)) + (0.5 * m * (omega ** 2) * (x ** 2) * psi1)\n",
    "\n",
    "def tridiag(a, b, c, k1=-1, k2=0, k3=1):\n",
    "  return np.diag(a, k1) + np.diag(b, k2) + np.diag(c, k3)\n",
    "\n",
    "def lanczos(m, omega, hbar, C, x):\n",
    "  a, b = [], []\n",
    " \n",
    "  psi0 = C * gaussian(m, omega, hbar, x)\n",
    "  psi1, C = normalize_gauss(psi0, C, x)\n",
    "\n",
    "  for i in range(1):\n",
    "    w_prime = hamiltonian(m, omega, hbar, psi1, x)\n",
    "    alpha1 = sym.integrate(psi1 * w_prime, (x, -sym.oo, sym.oo))\n",
    "    a.append(alpha1)\n",
    "    \n",
    "    psi2 = w_prime - (alpha1 * psi1)\n",
    "    beta2 = math.sqrt(sym.integrate((sym.Abs(psi2) ** 2), (x, -sym.oo, sym.oo)))\n",
    "    b.append(beta2)\n",
    "\n",
    "    psi1 = psi2/beta2\n",
    "\n",
    "  return tridiag(a, b, a)\n",
    "\n",
    "\n",
    "m, omega, hbar = 1, 1, 1\n",
    "C, x = sym.Symbol('C'), sym.Symbol('x')\n",
    "\n",
    "T = lanczos(m, omega, hbar, C, x)\n",
    "print(T)"
   ]
  },
  {
   "cell_type": "code",
   "execution_count": null,
   "metadata": {},
   "outputs": [],
   "source": [
    "'''\n",
    "we expect alpha to change a lot at first, then slowly change less and less v quickly, should not be linear change\n",
    "\n",
    "we want to generalize psi, rn psi is a Gaussian, we should have a normalization constant C times a function psi. generalize lanczos() to only take C and psi\n",
    "\n",
    "0.5 is the ground state, should get 3.5, 5.5, 7.5, etc. from loop (excited states)\n",
    "\n",
    "plot eigenvalues vs iterations \n",
    "\n",
    "in LaTeX: how/why does Lanczos algorithm work, and some pseudo code of what our algorithms do\n",
    "'''\n",
    "\n",
    "import sympy as sym\n",
    "import numpy as np\n",
    "import math\n",
    "\n",
    "def gaussian(m, omega, hbar, x):\n",
    "  return sym.exp(-(m * omega) / (2 * hbar) * (x ** 2))\n",
    "\n",
    "def normalize_gauss(psi0, C, x):\n",
    "  a, b = sym.solve((C ** 2) * sym.integrate((sym.Abs(psi0 / C) ** 2), (x, -sym.oo, sym.oo)) - 1, C)\n",
    "  psi1 = b * (psi0 / C)\n",
    "  return psi1, b\n",
    "\n",
    "def hamiltonian(m, omega, hbar, psi1, x):\n",
    "  return (-(hbar ** 2) / (2 * m)) * (sym.diff(psi1, x, 2)) + (0.5 * m * (omega ** 2) * (x ** 2) * psi1)\n",
    "\n",
    "def tridiag(a, b, c, k1=-1, k2=0, k3=1):\n",
    "  return np.diag(a, k1) + np.diag(b, k2) + np.diag(c, k3)\n",
    "\n",
    "def lanczos(m, omega, hbar, C, x):\n",
    "  a, b = [], []\n",
    " \n",
    "  psi0 = C * gaussian(m, omega, hbar, x)\n",
    "  psi1, C = normalize_gauss(psi0, C, x)\n",
    "\n",
    "  #index, delta = 0, 0\n",
    "  #while(True):\n",
    "  for i in range (10):\n",
    "    w_prime = hamiltonian(m, omega, hbar, psi1, x)\n",
    "    alpha1 = sym.integrate(psi1 * w_prime, (x, -sym.oo, sym.oo))\n",
    "    a.append(alpha1)\n",
    "        \n",
    "    psi2 = w_prime - (alpha1 * psi1)\n",
    "    beta2 = math.sqrt(sym.integrate((sym.Abs(psi2) ** 2), (x, -sym.oo, sym.oo)))\n",
    "    b.append(beta2)\n",
    "\n",
    "    psi1 = psi2/beta2\n",
    "    '''\n",
    "    if index != 0:\n",
    "        delta = a[index] / a[index - 1] * 100\n",
    "        if delta <= 0.01:\n",
    "            b.pop()\n",
    "            return tridiag(b, a, b)\n",
    "\n",
    "    index += 1\n",
    "    '''\n",
    "    return tridiag(b, a, b)\n",
    "  \n",
    "\n",
    "m, omega, hbar = 1, 1, 1\n",
    "C, x = sym.Symbol('C'), sym.Symbol('x')\n",
    "\n",
    "T = lanczos(m, omega, hbar, C, x)\n",
    "print(T)\n",
    "w = np.linalg.eig(T)\n",
    "print(w)"
   ]
  }
 ],
 "metadata": {
  "interpreter": {
   "hash": "40d3a090f54c6569ab1632332b64b2c03c39dcf918b08424e98f38b5ae0af88f"
  },
  "kernelspec": {
   "display_name": "Python 3.8.11 64-bit ('base': conda)",
   "name": "python3"
  },
  "language_info": {
   "codemirror_mode": {
    "name": "ipython",
    "version": 3
   },
   "file_extension": ".py",
   "mimetype": "text/x-python",
   "name": "python",
   "nbconvert_exporter": "python",
   "pygments_lexer": "ipython3",
   "version": "3.8.11"
  },
  "orig_nbformat": 4
 },
 "nbformat": 4,
 "nbformat_minor": 2
}
