{
  "nbformat": 4,
  "nbformat_minor": 2,
  "metadata": {
    "colab": {
      "name": "tmp.ipynb",
      "provenance": []
    },
    "kernelspec": {
      "name": "python3",
      "display_name": "Python 3.8.11 64-bit"
    },
    "language_info": {
      "name": "python",
      "version": "3.8.11",
      "mimetype": "text/x-python",
      "codemirror_mode": {
        "name": "ipython",
        "version": 3
      },
      "pygments_lexer": "ipython3",
      "nbconvert_exporter": "python",
      "file_extension": ".py"
    },
    "interpreter": {
      "hash": "dca0ade3e726a953b501b15e8e990130d2b7799f14cfd9f4271676035ebe5511"
    }
  },
  "cells": [
    {
      "cell_type": "markdown",
      "source": [
        "# Zach: the following 2 code cells are separate versions of the same thing. If you're planning on building off of it, start with the second cell, and reference the first one where appropriate. Comments on both are notes from meetings w/ Conroy & Secrest.\n",
        "\n",
        "Useful resources:\n",
        "*   [https://github.com/topics/lanczos-algorithm](https://github.com/topics/lanczos-algorithm)\n",
        "*   [https://github.com/spartan-array/spartan/blob/master/spartan/examples/lanczos.py](https://github.com/spartan-array/spartan/blob/master/spartan/examples/lanczos.py)\n",
        "*   [https://github.com/ecasiano/LanczosEigensolvers](https://github.com/ecasiano/LanczosEigensolvers)"
      ],
      "metadata": {
        "id": "duRGVm4oATLs"
      }
    },
    {
      "cell_type": "code",
      "execution_count": 1,
      "source": [
        "'''\n",
        "we expect alpha to be 1/2, so no need to loop\n",
        "\n",
        "usually, we track how much the alpha value changes. if it changes by less than 0.01%, it will have converged and we can stop the loop.\n",
        "\n",
        "no need to track beta value, it's just there for the ride\n",
        "\n",
        "we expect alpha to change a lot at first, then slowly change less and less v quickly, should not be linear change\n",
        "\n",
        "we want to generalize psi, rn psi is a Gaussian, we should have a normalization constant C times a function psi. generalize lanczos() to only take C and psi\n",
        "\n",
        "0.5 is the ground state, should get 3.5, 5.5, 7.5, etc. from loop (excited states)\n",
        "\n",
        "plot eigenvalues vs iterations \n",
        "\n",
        "in LaTeX: how/why does Lanczos algorithm work, and some pseudo code of what our algorithms do\n",
        "'''\n",
        "\n",
        "import sympy as sym\n",
        "import numpy as np\n",
        "import math\n",
        "\n",
        "def gaussian(m, omega, hbar, x):\n",
        "  return sym.exp(-(m * omega) / (2 * hbar) * (x ** 2))\n",
        "\n",
        "def normalize_gauss(psi0, C, x):\n",
        "  a, b = sym.solve((C ** 2) * sym.integrate((sym.Abs(psi0 / C) ** 2), (x, -sym.oo, sym.oo)) - 1, C)\n",
        "  psi1 = b * (psi0 / C)\n",
        "  return psi1, b\n",
        "\n",
        "def hamiltonian(m, omega, hbar, psi1, x):\n",
        "  return (-(hbar ** 2) / (2 * m)) * (sym.diff(psi1, x, 2)) + (0.5 * m * (omega ** 2) * (x ** 2) * psi1)\n",
        "\n",
        "def tridiag(a, b, c, k1=-1, k2=0, k3=1):\n",
        "  return np.diag(a, k1) + np.diag(b, k2) + np.diag(c, k3)\n",
        "\n",
        "def lanczos(m, omega, hbar, C, x):\n",
        "  a, b = [], []\n",
        " \n",
        "  psi0 = C * gaussian(m, omega, hbar, x)\n",
        "  psi1, C = normalize_gauss(psi0, C, x)\n",
        "\n",
        "  for i in range(1):\n",
        "    w_prime = hamiltonian(m, omega, hbar, psi1, x)\n",
        "    alpha1 = sym.integrate(psi1 * w_prime, (x, -sym.oo, sym.oo))\n",
        "    a.append(alpha1)\n",
        "    \n",
        "    psi2 = w_prime - (alpha1 * psi1)\n",
        "    beta2 = math.sqrt(sym.integrate((sym.Abs(psi2) ** 2), (x, -sym.oo, sym.oo)))\n",
        "    b.append(beta2)\n",
        "\n",
        "    psi1 = psi2/beta2\n",
        "\n",
        "  return tridiag(a, b, a)\n",
        "\n",
        "\n",
        "m, omega, hbar = 1, 1, 1\n",
        "C, x = sym.Symbol('C'), sym.Symbol('x')\n",
        "\n",
        "T = lanczos(m, omega, hbar, C, x)\n",
        "print(T)"
      ],
      "outputs": [
        {
          "output_type": "stream",
          "name": "stdout",
          "text": [
            "[[2.4822522981117435e-17\n",
            "  2.48225229811174e-17 + 0.282094791773878*sqrt(pi)]\n",
            " [2.48225229811174e-17 + 0.282094791773878*sqrt(pi)\n",
            "  2.4822522981117435e-17]]\n"
          ]
        }
      ],
      "metadata": {
        "colab": {
          "base_uri": "https://localhost:8080/"
        },
        "id": "JGX9iPWS3bga",
        "outputId": "993d13d1-bb5a-4f80-9c3b-4353d389e33a"
      }
    },
    {
      "cell_type": "code",
      "execution_count": 2,
      "source": [
        "'''\n",
        "we expect alpha to change a lot at first, then slowly change less and less v quickly, should not be linear change\n",
        "\n",
        "we want to generalize psi, rn psi is a Gaussian, we should have a normalization constant C times a function psi. generalize lanczos() to only take C and psi\n",
        "\n",
        "0.5 is the ground state, should get 3.5, 5.5, 7.5, etc. from loop (excited states)\n",
        "\n",
        "plot eigenvalues vs iterations \n",
        "\n",
        "in LaTeX: how/why does Lanczos algorithm work, and some pseudo code of what our algorithms do\n",
        "'''\n",
        "\n",
        "import sympy as sym\n",
        "import numpy as np\n",
        "import math\n",
        "\n",
        "def gaussian(m, omega, hbar, x):\n",
        "  return sym.exp(-(m * omega) / (2 * hbar) * (x ** 2))\n",
        "\n",
        "def normalize_gauss(psi0, C, x):\n",
        "  a, b = sym.solve((C ** 2) * sym.integrate((sym.Abs(psi0 / C) ** 2), (x, -sym.oo, sym.oo)) - 1, C)\n",
        "  psi1 = b * (psi0 / C)\n",
        "  return psi1, b\n",
        "\n",
        "def hamiltonian(m, omega, hbar, psi1, x):\n",
        "  return (-(hbar ** 2) / (2 * m)) * (sym.diff(psi1, x, 2)) + (0.5 * m * (omega ** 2) * (x ** 2) * psi1)\n",
        "\n",
        "def tridiag(a, b, c, k1=-1, k2=0, k3=1):\n",
        "  return np.diag(a, k1) + np.diag(b, k2) + np.diag(c, k3)\n",
        "\n",
        "def lanczos(m, omega, hbar, C, x):\n",
        "  a, b = [], []\n",
        " \n",
        "  psi0 = C * gaussian(m, omega, hbar, x)\n",
        "  psi1, C = normalize_gauss(psi0, C, x)\n",
        "\n",
        "  #index, delta = 0, 0\n",
        "  #while(True):\n",
        "  for i in range (10):\n",
        "    w_prime = hamiltonian(m, omega, hbar, psi1, x)\n",
        "    alpha1 = sym.integrate(psi1 * w_prime, (x, -sym.oo, sym.oo))\n",
        "    a.append(alpha1)\n",
        "        \n",
        "    psi2 = w_prime - (alpha1 * psi1)\n",
        "    beta2 = math.sqrt(sym.integrate((sym.Abs(psi2) ** 2), (x, -sym.oo, sym.oo)))\n",
        "    b.append(beta2)\n",
        "\n",
        "    psi1 = psi2/beta2\n",
        "    '''\n",
        "    if index != 0:\n",
        "        delta = a[index] / a[index - 1] * 100\n",
        "        if delta <= 0.01:\n",
        "            b.pop()\n",
        "            return tridiag(b, a, b)\n",
        "\n",
        "    index += 1\n",
        "    '''\n",
        "    return tridiag(b, a, b)\n",
        "  \n",
        "\n",
        "m, omega, hbar = 1, 1, 1\n",
        "C, x = sym.Symbol('C'), sym.Symbol('x')\n",
        "\n",
        "T = lanczos(m, omega, hbar, C, x)\n",
        "print(T)\n",
        "w = np.linalg.eig(T)\n",
        "print(w)"
      ],
      "outputs": [
        {
          "output_type": "stream",
          "name": "stdout",
          "text": [
            "[[0.282094791773878*sqrt(pi)\n",
            "  2.48225229811174e-17 + 0.282094791773878*sqrt(pi)]\n",
            " [2.48225229811174e-17 + 0.282094791773878*sqrt(pi)\n",
            "  0.282094791773878*sqrt(pi)]]\n"
          ]
        },
        {
          "output_type": "error",
          "ename": "TypeError",
          "evalue": "ufunc 'isfinite' not supported for the input types, and the inputs could not be safely coerced to any supported types according to the casting rule ''safe''",
          "traceback": [
            "\u001b[0;31m---------------------------------------------------------------------------\u001b[0m",
            "\u001b[0;31mTypeError\u001b[0m                                 Traceback (most recent call last)",
            "\u001b[0;32m/var/folders/db/m3svjh3n4blf_t2qj_sc01lw0000gp/T/ipykernel_27989/3485422563.py\u001b[0m in \u001b[0;36m<module>\u001b[0;34m\u001b[0m\n\u001b[1;32m     64\u001b[0m \u001b[0mT\u001b[0m \u001b[0;34m=\u001b[0m \u001b[0mlanczos\u001b[0m\u001b[0;34m(\u001b[0m\u001b[0mm\u001b[0m\u001b[0;34m,\u001b[0m \u001b[0momega\u001b[0m\u001b[0;34m,\u001b[0m \u001b[0mhbar\u001b[0m\u001b[0;34m,\u001b[0m \u001b[0mC\u001b[0m\u001b[0;34m,\u001b[0m \u001b[0mx\u001b[0m\u001b[0;34m)\u001b[0m\u001b[0;34m\u001b[0m\u001b[0;34m\u001b[0m\u001b[0m\n\u001b[1;32m     65\u001b[0m \u001b[0mprint\u001b[0m\u001b[0;34m(\u001b[0m\u001b[0mT\u001b[0m\u001b[0;34m)\u001b[0m\u001b[0;34m\u001b[0m\u001b[0;34m\u001b[0m\u001b[0m\n\u001b[0;32m---> 66\u001b[0;31m \u001b[0mw\u001b[0m \u001b[0;34m=\u001b[0m \u001b[0mnp\u001b[0m\u001b[0;34m.\u001b[0m\u001b[0mlinalg\u001b[0m\u001b[0;34m.\u001b[0m\u001b[0meig\u001b[0m\u001b[0;34m(\u001b[0m\u001b[0mT\u001b[0m\u001b[0;34m)\u001b[0m\u001b[0;34m\u001b[0m\u001b[0;34m\u001b[0m\u001b[0m\n\u001b[0m\u001b[1;32m     67\u001b[0m \u001b[0mprint\u001b[0m\u001b[0;34m(\u001b[0m\u001b[0mw\u001b[0m\u001b[0;34m)\u001b[0m\u001b[0;34m\u001b[0m\u001b[0;34m\u001b[0m\u001b[0m\n",
            "\u001b[0;32m<__array_function__ internals>\u001b[0m in \u001b[0;36meig\u001b[0;34m(*args, **kwargs)\u001b[0m\n",
            "\u001b[0;32m/opt/anaconda3/lib/python3.8/site-packages/numpy/linalg/linalg.py\u001b[0m in \u001b[0;36meig\u001b[0;34m(a)\u001b[0m\n\u001b[1;32m   1315\u001b[0m     \u001b[0m_assert_stacked_2d\u001b[0m\u001b[0;34m(\u001b[0m\u001b[0ma\u001b[0m\u001b[0;34m)\u001b[0m\u001b[0;34m\u001b[0m\u001b[0;34m\u001b[0m\u001b[0m\n\u001b[1;32m   1316\u001b[0m     \u001b[0m_assert_stacked_square\u001b[0m\u001b[0;34m(\u001b[0m\u001b[0ma\u001b[0m\u001b[0;34m)\u001b[0m\u001b[0;34m\u001b[0m\u001b[0;34m\u001b[0m\u001b[0m\n\u001b[0;32m-> 1317\u001b[0;31m     \u001b[0m_assert_finite\u001b[0m\u001b[0;34m(\u001b[0m\u001b[0ma\u001b[0m\u001b[0;34m)\u001b[0m\u001b[0;34m\u001b[0m\u001b[0;34m\u001b[0m\u001b[0m\n\u001b[0m\u001b[1;32m   1318\u001b[0m     \u001b[0mt\u001b[0m\u001b[0;34m,\u001b[0m \u001b[0mresult_t\u001b[0m \u001b[0;34m=\u001b[0m \u001b[0m_commonType\u001b[0m\u001b[0;34m(\u001b[0m\u001b[0ma\u001b[0m\u001b[0;34m)\u001b[0m\u001b[0;34m\u001b[0m\u001b[0;34m\u001b[0m\u001b[0m\n\u001b[1;32m   1319\u001b[0m \u001b[0;34m\u001b[0m\u001b[0m\n",
            "\u001b[0;32m/opt/anaconda3/lib/python3.8/site-packages/numpy/linalg/linalg.py\u001b[0m in \u001b[0;36m_assert_finite\u001b[0;34m(*arrays)\u001b[0m\n\u001b[1;32m    205\u001b[0m \u001b[0;32mdef\u001b[0m \u001b[0m_assert_finite\u001b[0m\u001b[0;34m(\u001b[0m\u001b[0;34m*\u001b[0m\u001b[0marrays\u001b[0m\u001b[0;34m)\u001b[0m\u001b[0;34m:\u001b[0m\u001b[0;34m\u001b[0m\u001b[0;34m\u001b[0m\u001b[0m\n\u001b[1;32m    206\u001b[0m     \u001b[0;32mfor\u001b[0m \u001b[0ma\u001b[0m \u001b[0;32min\u001b[0m \u001b[0marrays\u001b[0m\u001b[0;34m:\u001b[0m\u001b[0;34m\u001b[0m\u001b[0;34m\u001b[0m\u001b[0m\n\u001b[0;32m--> 207\u001b[0;31m         \u001b[0;32mif\u001b[0m \u001b[0;32mnot\u001b[0m \u001b[0misfinite\u001b[0m\u001b[0;34m(\u001b[0m\u001b[0ma\u001b[0m\u001b[0;34m)\u001b[0m\u001b[0;34m.\u001b[0m\u001b[0mall\u001b[0m\u001b[0;34m(\u001b[0m\u001b[0;34m)\u001b[0m\u001b[0;34m:\u001b[0m\u001b[0;34m\u001b[0m\u001b[0;34m\u001b[0m\u001b[0m\n\u001b[0m\u001b[1;32m    208\u001b[0m             \u001b[0;32mraise\u001b[0m \u001b[0mLinAlgError\u001b[0m\u001b[0;34m(\u001b[0m\u001b[0;34m\"Array must not contain infs or NaNs\"\u001b[0m\u001b[0;34m)\u001b[0m\u001b[0;34m\u001b[0m\u001b[0;34m\u001b[0m\u001b[0m\n\u001b[1;32m    209\u001b[0m \u001b[0;34m\u001b[0m\u001b[0m\n",
            "\u001b[0;31mTypeError\u001b[0m: ufunc 'isfinite' not supported for the input types, and the inputs could not be safely coerced to any supported types according to the casting rule ''safe''"
          ]
        }
      ],
      "metadata": {
        "id": "Qm8bPA0M3eAJ"
      }
    }
  ]
}