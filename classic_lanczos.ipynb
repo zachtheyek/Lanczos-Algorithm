{
  "nbformat": 4,
  "nbformat_minor": 0,
  "metadata": {
    "colab": {
      "name": "lanczos.ipynb",
      "provenance": []
    },
    "kernelspec": {
      "name": "python3",
      "display_name": "Python 3"
    },
    "language_info": {
      "name": "python"
    }
  },
  "cells": [
    {
      "cell_type": "markdown",
      "metadata": {
        "id": "nzsSd90lECc7"
      },
      "source": [
        "# Introduction\n",
        "\n",
        "The Lanczos algorithm is a direct algorithm devised by Cornelius Lanczos that is an adaptation of power methods to find the $m$ \"most useful\" (tending towards extreme highest/lowest) eigenvalues and eigenvectors of an $n\\times n$ Hermitian matrix, where $m$ is often but not necessarily much smaller than $n$.\n",
        "\n",
        "The following is an implementation of the \"classic\" Lanczos algorithm."
      ]
    },
    {
      "cell_type": "markdown",
      "metadata": {
        "id": "8atGpd6GEROA"
      },
      "source": [
        "# Import Dependencies\n",
        "\n",
        "We begin by importing the necessary libraries."
      ]
    },
    {
      "cell_type": "code",
      "metadata": {
        "id": "FJThaTbXEYCH"
      },
      "source": [
        "import numpy as np \n",
        "from numpy import linalg as LA"
      ],
      "execution_count": 1,
      "outputs": []
    },
    {
      "cell_type": "markdown",
      "metadata": {
        "id": "-uKNYzzQEaO5"
      },
      "source": [
        "# Lanczos Algorithm\n",
        "\n",
        "Defined following the steps outlined in [https://en.wikipedia.org/wiki/Lanczos_algorithm](https://en.wikipedia.org/wiki/Lanczos_algorithm)."
      ]
    },
    {
      "cell_type": "code",
      "metadata": {
        "id": "wZyN6rIaEkIx"
      },
      "source": [
        "# Function to tri-diagonalize a matrix\n",
        "def tridiag(a, b, c, k1=-1, k2=0, k3=1):\n",
        "  return np.diag(a, k1) + np.diag(b, k2) + np.diag(c, k3)\n",
        "\n",
        "# Lanczos algorithm\n",
        "def lanczos(A, v1):\n",
        "  np.set_printoptions(precision=3, suppress=True)\n",
        "  # Step 1\n",
        "  x, y = [], []\n",
        "  n = A.shape[1]\n",
        "  v2, beta = 0.0, 0.0\n",
        "\n",
        "  for i in range(n):\n",
        "    # Step 2\n",
        "    w_prime = np.dot(A, v1)\n",
        "    conj = np.matrix.conjugate(w_prime)\n",
        "    alpha = np.dot(conj, v1)\n",
        "    w = w_prime - alpha * v1 - beta * v2\n",
        "    # Step 3\n",
        "    beta = np.linalg.norm(w)\n",
        "    # Step 4\n",
        "    x.append(np.linalg.norm(alpha))\n",
        "\n",
        "    # Reset\n",
        "    if i < (n-1):\n",
        "        y.append(beta)\n",
        "    v2 = v1\n",
        "    v1 = w/beta\n",
        "    \n",
        "  return tridiag(y, x, y)"
      ],
      "execution_count": 2,
      "outputs": []
    },
    {
      "cell_type": "markdown",
      "metadata": {
        "id": "_9tJf2pFFo0J"
      },
      "source": [
        "# Example\n",
        "\n",
        "We test our algorithm on an example where $A=\\text{diag}\\;(0,\\;1,\\;2,\\;3,\\;4,\\;100000)$."
      ]
    },
    {
      "cell_type": "code",
      "metadata": {
        "colab": {
          "base_uri": "https://localhost:8080/"
        },
        "id": "p-ZWhR_X-tS6",
        "outputId": "e8195ab1-ef2d-43c9-da55-2e89dd93361c"
      },
      "source": [
        "A = np.diag([0., 1., 2., 3., 4., 100000.])\n",
        "n = A.shape[1]\n",
        "v_0 = np.zeros(n)\n",
        "v_0.fill(1.)\n",
        "v = v_0/np.linalg.norm(v_0)\n",
        "\n",
        "# Obtaining the tri-diagonal matrix T\n",
        "T = lanczos(A, v)\n",
        "print(T)\n",
        "\n",
        "# Finding the eigenvalues w and eigenvectors v of the tri-diagonal matrix\n",
        "w, v = LA.eig(T)\n",
        "print(f'\\n{w}')"
      ],
      "execution_count": 7,
      "outputs": [
        {
          "output_type": "stream",
          "name": "stdout",
          "text": [
            "[[16668.333 37267.054     0.        0.        0.        0.   ]\n",
            " [37267.054 83333.667     3.464     0.        0.        0.   ]\n",
            " [    0.        3.464     2.        1.183     0.        0.   ]\n",
            " [    0.        0.        1.183     2.        1.014     0.   ]\n",
            " [    0.        0.        0.        1.014    14.59   1121.957]\n",
            " [    0.        0.        0.        0.     1121.957 99987.365]]\n",
            "\n",
            "[100000.         0.025      3.975      1.274      2.726  99999.955]\n"
          ]
        }
      ]
    }
  ]
}