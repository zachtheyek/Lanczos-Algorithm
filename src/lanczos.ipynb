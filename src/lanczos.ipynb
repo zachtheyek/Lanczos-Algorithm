{
  "cells": [
    {
      "cell_type": "code",
      "execution_count": 1,
      "metadata": {},
      "outputs": [],
      "source": [
        "%matplotlib inline"
      ]
    },
    {
      "cell_type": "markdown",
      "metadata": {
        "id": "nzsSd90lECc7"
      },
      "source": [
        "# Introduction\n",
        "\n",
        "The Lanczos algorithm is a direct algorithm devised by Cornelius Lanczos that is an adaptation of power methods to find the $m$ \"most useful\" (tending towards extreme highest/lowest) eigenvalues and eigenvectors of an $n\\times n$ Hermitian matrix, where $m$ is often but not necessarily much smaller than $n$.\n",
        "\n",
        "The following is an implementation of the [standard Lanczos algorithm](https://en.wikipedia.org/wiki/Lanczos_algorithm)."
      ]
    },
    {
      "cell_type": "markdown",
      "metadata": {
        "id": "8atGpd6GEROA"
      },
      "source": [
        "# Import Dependencies\n",
        "\n",
        "We begin by importing the necessary libraries."
      ]
    },
    {
      "cell_type": "code",
      "execution_count": 2,
      "metadata": {
        "id": "FJThaTbXEYCH"
      },
      "outputs": [],
      "source": [
        "# Data Analysis\n",
        "import numpy as np \n",
        "from numpy import linalg as LA\n",
        "\n",
        "# Data Visualization\n",
        "import matplotlib.pyplot as plt\n",
        "import seaborn as sns\n",
        "sns.set()\n",
        "sns.set_style('darkgrid')"
      ]
    },
    {
      "cell_type": "markdown",
      "metadata": {},
      "source": [
        "# Lanczos Algorithm\n",
        "\n",
        "The algorithm proceeds as follows:\n",
        "\n",
        "1. Given a Hermitian matrix $A$ of size $n\\times n$, and an arbitrary vector $v_1$ with Euclidean norm 1, specify a default number of function calls $m=n$\n",
        "2. Let $w_1'$=$Av_1$\n",
        "3. Let $\\alpha_1=w_1'^* v_1$\n",
        "4. Let $w_1=w_1'^*-\\alpha_1 v_1$\n",
        "\n",
        "We refer to steps 2 - 4 as the first iteration steps. Subsequently, \n",
        "\n",
        "5. Let $\\beta_j=||w_{j-1}||$\n",
        "6. If $\\beta_j\\neq0$, let $v_j=\\frac{w_{j-1}}{\\beta_j}$. Else, let $v_j$ be an arbitrary vector with Euclidean norm 1 that is orthogonal to $v_1, ..., v_{j-1}$\n",
        "7. Let $w_j'=Av_j$\n",
        "8. Let $\\alpha_j=w_j'v_j$\n",
        "9. Let $w_j=w_j'-\\alpha_j v_j-\\beta_j v_{j-1}$\n",
        "\n",
        "where $j$ denotes the iteration number, and must satisfy $2\\leq j\\leq m$. Finally, the output is a tridiagonalized matrix $T$ with $\\alpha_1, ..., \\alpha_m$ along the main diagonal, and $\\beta_2, ..., \\beta_m$ along the super- and subdiagonals."
      ]
    },
    {
      "cell_type": "code",
      "execution_count": 3,
      "metadata": {},
      "outputs": [],
      "source": [
        "# Function to tri-diagonalize a matrix\n",
        "def tridiag(a, b, c, k1=-1, k2=0, k3=1):\n",
        "  return np.diag(a, k1) + np.diag(b, k2) + np.diag(c, k3)\n",
        "\n",
        "# Lanczos algorithm\n",
        "def lanczos(A, v1):\n",
        "  np.set_printoptions(precision=3, suppress=True)\n",
        "  # First iteration steps\n",
        "  x, y = [], []\n",
        "  n = A.shape[1]\n",
        "  v2, beta = 0.0, 0.0\n",
        "\n",
        "  for i in range(n):\n",
        "    # Iteration steps\n",
        "    w_prime = np.dot(A, v1)\n",
        "    conj = np.matrix.conjugate(w_prime)\n",
        "    alpha = np.dot(conj, v1)\n",
        "    w = w_prime - alpha * v1 - beta * v2\n",
        "    beta = np.linalg.norm(w)\n",
        "    x.append(np.linalg.norm(alpha))\n",
        "\n",
        "    # Reset\n",
        "    if i < (n-1):\n",
        "        y.append(beta)\n",
        "    v2 = v1\n",
        "    v1 = w/beta\n",
        "    \n",
        "  return tridiag(y, x, y)"
      ]
    },
    {
      "cell_type": "markdown",
      "metadata": {
        "id": "_9tJf2pFFo0J"
      },
      "source": [
        "# Example\n",
        "\n",
        "We test our algorithm on an example where $A=\\text{diag}\\;(0,\\;1,\\;2,\\;3,\\;4,\\;100000)$."
      ]
    },
    {
      "cell_type": "code",
      "execution_count": 4,
      "metadata": {
        "colab": {
          "base_uri": "https://localhost:8080/"
        },
        "id": "p-ZWhR_X-tS6",
        "outputId": "e8195ab1-ef2d-43c9-da55-2e89dd93361c"
      },
      "outputs": [
        {
          "name": "stdout",
          "output_type": "stream",
          "text": [
            "Tridiagonalization of A: \n",
            "[[16668.333 37267.054     0.        0.        0.        0.   ]\n",
            " [37267.054 83333.667     3.464     0.        0.        0.   ]\n",
            " [    0.        3.464     2.        1.183     0.        0.   ]\n",
            " [    0.        0.        1.183     2.        1.014     0.   ]\n",
            " [    0.        0.        0.        1.014    14.59   1121.957]\n",
            " [    0.        0.        0.        0.     1121.957 99987.365]]\n",
            "\n",
            "Associated eigenvalues: \n",
            "[100000.         0.025      3.975      1.274      2.726  99999.955]\n",
            "\n",
            "Associated eigenvectors: \n",
            "[[-0.408  0.426 -0.426 -0.485 -0.485 -0.   ]\n",
            " [-0.913 -0.191  0.191  0.217  0.217 -0.   ]\n",
            " [-0.     0.652  0.652 -0.273  0.273  0.   ]\n",
            " [-0.    -0.531  0.531 -0.467 -0.467  0.   ]\n",
            " [-0.     0.273  0.273  0.652 -0.652  0.011]\n",
            " [-0.    -0.003 -0.003 -0.007  0.007  1.   ]]\n"
          ]
        }
      ],
      "source": [
        "A = np.diag([0., 1., 2., 3., 4., 100000.])\n",
        "n = A.shape[1]\n",
        "v_0 = np.zeros(n)\n",
        "v_0.fill(1.)\n",
        "v = v_0 / np.linalg.norm(v_0)\n",
        "\n",
        "# Obtaining the tri-diagonal matrix T\n",
        "T = lanczos(A, v)\n",
        "print(f'Tridiagonalization of A: \\n{T}')\n",
        "\n",
        "# Finding the eigenvalues w and eigenvectors v of the tri-diagonal matrix\n",
        "w, v = LA.eig(T)\n",
        "print(f'\\nAssociated eigenvalues: \\n{w}')\n",
        "print(f'\\nAssociated eigenvectors: \\n{v}')"
      ]
    },
    {
      "cell_type": "markdown",
      "metadata": {},
      "source": [
        "Let's visualize the eigenvalue convergence as a function of the number of iterations."
      ]
    },
    {
      "cell_type": "code",
      "execution_count": 5,
      "metadata": {},
      "outputs": [
        {
          "data": {
            "image/png": "[encoded data removed]",
            "text/plain": [
              "<Figure size 432x288 with 1 Axes>"
            ]
          },
          "metadata": {},
          "output_type": "display_data"
        }
      ],
      "source": [
        "plt.plot(w)\n",
        "plt.xlabel('Iterations')\n",
        "plt.ylabel('Eigenvalues')\n",
        "plt.show()"
      ]
    }
  ],
  "metadata": {
    "colab": {
      "name": "lanczos.ipynb",
      "provenance": []
    },
    "kernelspec": {
      "display_name": "Python 3.8.11 ('base')",
      "language": "python",
      "name": "python3"
    },
    "language_info": {
      "codemirror_mode": {
        "name": "ipython",
        "version": 3
      },
      "file_extension": ".py",
      "mimetype": "text/x-python",
      "name": "python",
      "nbconvert_exporter": "python",
      "pygments_lexer": "ipython3",
      "version": "3.8.11"
    },
    "vscode": {
      "interpreter": {
        "hash": "40d3a090f54c6569ab1632332b64b2c03c39dcf918b08424e98f38b5ae0af88f"
      }
    }
  },
  "nbformat": 4,
  "nbformat_minor": 2
}
