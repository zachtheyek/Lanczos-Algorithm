{
  "cells": [
    {
      "cell_type": "markdown",
      "metadata": {
        "id": "nzsSd90lECc7"
      },
      "source": [
        "# Introduction\n",
        "\n",
        "The Lanczos algorithm is a direct algorithm devised by Cornelius Lanczos that is an adaptation of power methods to find the $m$ \"most useful\" (tending towards extreme highest/lowest) eigenvalues and eigenvectors of an $n\\times n$ Hermitian matrix, where $m$ is often but not necessarily much smaller than $n$.\n",
        "\n",
        "The following is an implementation of the \"classic\" Lanczos algorithm."
      ]
    },
    {
      "cell_type": "markdown",
      "metadata": {
        "id": "8atGpd6GEROA"
      },
      "source": [
        "# Import Dependencies\n",
        "\n",
        "We begin by importing the necessary libraries."
      ]
    },
    {
      "cell_type": "code",
      "execution_count": 1,
      "metadata": {
        "id": "FJThaTbXEYCH"
      },
      "outputs": [],
      "source": [
        "import numpy as np \n",
        "from numpy import linalg as LA"
      ]
    },
    {
      "cell_type": "markdown",
      "metadata": {
        "id": "-uKNYzzQEaO5"
      },
      "source": [
        "# Lanczos Algorithm\n",
        "\n",
        "Defined following the steps outlined in [https://en.wikipedia.org/wiki/Lanczos_algorithm](https://en.wikipedia.org/wiki/Lanczos_algorithm)."
      ]
    },
    {
      "cell_type": "code",
      "execution_count": 2,
      "metadata": {
        "id": "wZyN6rIaEkIx"
      },
      "outputs": [],
      "source": [
        "# Function to tri-diagonalize a matrix\n",
        "def tridiag(a, b, c, k1=-1, k2=0, k3=1):\n",
        "  return np.diag(a, k1) + np.diag(b, k2) + np.diag(c, k3)\n",
        "\n",
        "# Lanczos algorithm\n",
        "def lanczos(A, v1):\n",
        "  np.set_printoptions(precision=3, suppress=True)\n",
        "  # Step 1\n",
        "  x, y = [], []\n",
        "  n = A.shape[1]\n",
        "  v2, beta = 0.0, 0.0\n",
        "\n",
        "  for i in range(n):\n",
        "    # Step 2\n",
        "    w_prime = np.dot(A, v1)\n",
        "    conj = np.matrix.conjugate(w_prime)\n",
        "    alpha = np.dot(conj, v1)\n",
        "    w = w_prime - alpha * v1 - beta * v2\n",
        "    # Step 3\n",
        "    beta = np.linalg.norm(w)\n",
        "    # Step 4\n",
        "    x.append(np.linalg.norm(alpha))\n",
        "\n",
        "    # Reset\n",
        "    if i < (n-1):\n",
        "        y.append(beta)\n",
        "    v2 = v1\n",
        "    v1 = w/beta\n",
        "    \n",
        "  return tridiag(y, x, y)"
      ]
    },
    {
      "cell_type": "markdown",
      "metadata": {
        "id": "_9tJf2pFFo0J"
      },
      "source": [
        "# Example\n",
        "\n",
        "We test our algorithm on an example where $A=\\text{diag}\\;(0,\\;1,\\;2,\\;3,\\;4,\\;100000)$."
      ]
    },
    {
      "cell_type": "code",
      "execution_count": 3,
      "metadata": {
        "colab": {
          "base_uri": "https://localhost:8080/"
        },
        "id": "p-ZWhR_X-tS6",
        "outputId": "e8195ab1-ef2d-43c9-da55-2e89dd93361c"
      },
      "outputs": [
        {
          "name": "stdout",
          "output_type": "stream",
          "text": [
            "Tridiagonalization of A: \n",
            "[[16668.333 37267.054     0.        0.        0.        0.   ]\n",
            " [37267.054 83333.667     3.464     0.        0.        0.   ]\n",
            " [    0.        3.464     2.        1.183     0.        0.   ]\n",
            " [    0.        0.        1.183     2.        1.014     0.   ]\n",
            " [    0.        0.        0.        1.014    14.59   1121.957]\n",
            " [    0.        0.        0.        0.     1121.957 99987.365]]\n",
            "\n",
            "Associated eigenvalues: \n",
            "[100000.         0.025      3.975      1.274      2.726  99999.955]\n",
            "\n",
            "Associated eigenvectors: \n",
            "[[-0.408  0.426 -0.426 -0.485 -0.485 -0.   ]\n",
            " [-0.913 -0.191  0.191  0.217  0.217 -0.   ]\n",
            " [-0.     0.652  0.652 -0.273  0.273  0.   ]\n",
            " [-0.    -0.531  0.531 -0.467 -0.467  0.   ]\n",
            " [-0.     0.273  0.273  0.652 -0.652  0.011]\n",
            " [-0.    -0.003 -0.003 -0.007  0.007  1.   ]]\n"
          ]
        }
      ],
      "source": [
        "A = np.diag([0., 1., 2., 3., 4., 100000.])\n",
        "n = A.shape[1]\n",
        "v_0 = np.zeros(n)\n",
        "v_0.fill(1.)\n",
        "v = v_0/np.linalg.norm(v_0)\n",
        "\n",
        "# Obtaining the tri-diagonal matrix T\n",
        "T = lanczos(A, v)\n",
        "print(f'Tridiagonalization of A: \\n{T}')\n",
        "\n",
        "# Finding the eigenvalues w and eigenvectors v of the tri-diagonal matrix\n",
        "w, v = LA.eig(T)\n",
        "print(f'\\nAssociated eigenvalues: \\n{w}')\n",
        "print(f'\\nAssociated eigenvectors: \\n{v}')"
      ]
    },
    {
      "cell_type": "markdown",
      "metadata": {},
      "source": [
        "We find that our values are in agreement with a separate implementation of the same algorithm using Mathematica (`classic_lanczos.nb`)."
      ]
    }
  ],
  "metadata": {
    "colab": {
      "name": "lanczos.ipynb",
      "provenance": []
    },
    "interpreter": {
      "hash": "dca0ade3e726a953b501b15e8e990130d2b7799f14cfd9f4271676035ebe5511"
    },
    "kernelspec": {
      "display_name": "Python 3.8.11 64-bit ('base': conda)",
      "name": "python3"
    },
    "language_info": {
      "codemirror_mode": {
        "name": "ipython",
        "version": 3
      },
      "file_extension": ".py",
      "mimetype": "text/x-python",
      "name": "python",
      "nbconvert_exporter": "python",
      "pygments_lexer": "ipython3",
      "version": "3.8.11"
    }
  },
  "nbformat": 4,
  "nbformat_minor": 2
}
